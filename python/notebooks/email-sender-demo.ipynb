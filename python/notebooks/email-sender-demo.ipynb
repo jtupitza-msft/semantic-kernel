{
 "cells": [
  {
   "attachments": {},
   "cell_type": "markdown",
   "id": "692e361b",
   "metadata": {},
   "source": [
    "# How to a Run Semantic Skill from File\n",
    "Here we'll explore how the kernel allows you to run Semantic Skills and Semantic Functions stored on disk. \n",
    "\n",
    "This Demonstration is adapted from the notebook [02-running-prompts-from-file.ipynb](02-running-prompt-from-file.ipynb):\n",
    "\n",
    "A Semantic Skill is a collection of Semantic Functions, where each function is defined using natural language that can be provided with a text file. \n",
    "\n",
    "Refer to our [glossary](https://github.com/microsoft/semantic-kernel/blob/main/docs/GLOSSARY.md) for an in-depth guide to the terms.\n",
    "\n",
    "The repository includes some examples under the [samples](https://github.com/microsoft/semantic-kernel/tree/main/samples) folder.\n",
    "\n",
    "A plugin is a collection of semantic functions (i.e., prompts) that can be loaded into the kernel. Every plugin follows a similar structure, which is described in the ai plugin section of the documentation. At a high level though, a plugin is a folder that contains additional folders, one for each semantic function.\n",
    "\n",
    "```\n",
    "MySemanticPlugin (a directory)\n",
    "│\n",
    "└─── MyFirstSemanticFunction (a directory)\n",
    "|   |\n",
    "│   └───config.json\n",
    "│   └───skprompt.txt\n",
    "|\n",
    "└─── MyOtherSemanticFunction (a directory)\n",
    "    |\n",
    "    └───config.json\n",
    "    └───skprompt.txt\n",
    "```\n",
    "\n",
    "For example, [this](../../skills/WriterSkill/EmailSenderDemo/skprompt.txt) is the **EmailSenderDemo function** that I've prepared expressly for this demonstration by adding it to the **WriterSkill skill**: \n",
    "\n",
    "```\n",
    "WriterSkill (a directory)\n",
    "│\n",
    "└─── EmailSenderDemo (a directory)\n",
    "    |\n",
    "    └───config.json\n",
    "    └───skprompt.txt\n",
    "\n",
    "```\n",
    "\n",
    "Inside each semantic function folder there is a **`skprompt.txt`** file that contains a **`prompt template`**, and a **`config.json`** file that describes the configuration of the semantic function.  The following text illustrates how the contents of the **`prompt template`** include textual prompt information along with the **`variables`** required to integrate user-defined information."
   ]
  },
  {
   "attachments": {},
   "cell_type": "markdown",
   "id": "f3ce1efe",
   "metadata": {},
   "source": [
    "```\n",
    "Write an email based on the given text\n",
    "Use a {{$tone}} tone.\n",
    "The email should be {{$length}}.\n",
    "The email should be from {{$sender}}.\n",
    "\n",
    "{{$input}}\n",
    "```"
   ]
  },
  {
   "attachments": {},
   "cell_type": "markdown",
   "id": "afdb96d6",
   "metadata": {},
   "source": [
    "Note the special **`{{$input}}`** token, which is a variable that is automatically passed when invoking the function, commonly referred to as a \"function parameter\".  In this example we'll pass in a **description** of the email we'd like the **function** to generate for us.\n",
    "\n",
    "Also note how functions can accept multiple variables, as well as invoke other functions. Here I've added user-defined variables for the **`{{$tone}}`**, **`{{$length}}`**, and **`{{$sender}}`** of the custom email being written."
   ]
  },
  {
   "attachments": {},
   "cell_type": "markdown",
   "id": "c3bd5134",
   "metadata": {},
   "source": [
    "\n",
    "In the same folder you'll notice a second [config.json](../../skills/FunSkill/Joke/config.json) file. The file is optional, and is used to set some parameters for large language models like Temperature, TopP, Stop Sequences, etc.\n",
    "\n",
    "```\n",
    "{\n",
    "  \"schema\": 1,\n",
    "  \"type\": \"completion\",\n",
    "  \"description\": \"Write an email based on the given information\",\n",
    "  \"completion\": {\n",
    "    \"max_tokens\": 1000,\n",
    "    \"temperature\": 0.0,\n",
    "    \"top_p\": 0.0,\n",
    "    \"presence_penalty\": 0.0,\n",
    "    \"frequency_penalty\": 0.0\n",
    "  },\n",
    "  \"input\": {\n",
    "    \"parameters\" : [\n",
    "        {\n",
    "            \"name\": \"input\",\n",
    "            \"description\": \"What the email should be about.\",\n",
    "            \"defaultValue\": \"\"\n",
    "        },\n",
    "        {\n",
    "            \"name\": \"tone\",\n",
    "            \"description\": \"The tone of the email.\",\n",
    "            \"defaultValue\": \"Professional\"\n",
    "        },\n",
    "        {\n",
    "            \"name\": \"length\",\n",
    "            \"description\": \"The length of the email.\",\n",
    "            \"defaultValue\": \"\"\n",
    "        },\n",
    "        {\n",
    "            \"name\": \"sender\",\n",
    "            \"description\": \"The person who will send the email.\",\n",
    "            \"defaultValue\": \"\"\n",
    "        }\n",
    "    ]\n",
    "  }\n",
    "}\n",
    "```"
   ]
  },
  {
   "attachments": {},
   "cell_type": "markdown",
   "id": "384ff07f",
   "metadata": {},
   "source": [
    "Given a semantic function defined by these files, this is how to load and use a file based semantic function.\n",
    "\n",
    "Load and configure the kernel, as usual, loading also the AI service settings defined in the [Setup notebook](00-getting-started.ipynb):"
   ]
  },
  {
   "cell_type": "markdown",
   "id": "5fd6712a",
   "metadata": {},
   "source": [
    "### 1. Start Using the Semantic Kernal SDK\n",
    "- Instantiate the Semantic Kernal\n",
    "- Get a reference to the Azure OpenAI Service and the ChatCompletion connector"
   ]
  },
  {
   "cell_type": "code",
   "execution_count": 1,
   "id": "b0062a24",
   "metadata": {},
   "outputs": [],
   "source": [
    "import semantic_kernel as sk\n",
    "from semantic_kernel.connectors.ai.open_ai import AzureChatCompletion, OpenAIChatCompletion\n",
    "\n",
    "kernel = sk.Kernel()\n",
    "\n",
    "useAzureOpenAI = True\n",
    "\n",
    "# Configure AI service used by the kernel\n",
    "if useAzureOpenAI:\n",
    "    deployment, api_key, endpoint = sk.azure_openai_settings_from_dot_env()\n",
    "    kernel.add_chat_service(\"chat_completion\", AzureChatCompletion(deployment, endpoint, api_key))\n",
    "else:\n",
    "    api_key, org_id = sk.openai_settings_from_dot_env()\n",
    "    kernel.add_chat_service(\"chat-gpt\", OpenAIChatCompletion(\"gpt-3.5-turbo\", api_key, org_id))"
   ]
  },
  {
   "attachments": {},
   "cell_type": "markdown",
   "id": "fd5ff1f4",
   "metadata": {},
   "source": [
    "### 2. Import my custom skill and all its functions:"
   ]
  },
  {
   "cell_type": "code",
   "execution_count": 2,
   "id": "56ee184d",
   "metadata": {},
   "outputs": [],
   "source": [
    "# note: using skills from the samples folder\n",
    "skills_directory = \"../../samples/skills\"\n",
    "\n",
    "writerFunctions = kernel.import_semantic_skill_from_directory(skills_directory, \"WriterSkill\")\n",
    "\n",
    "emailFunction = writerFunctions[\"EmailSenderDemo\"]"
   ]
  },
  {
   "cell_type": "markdown",
   "id": "0c6b56a8",
   "metadata": {},
   "source": [
    "### 3. Define and intitialize the variables we'll be using "
   ]
  },
  {
   "cell_type": "code",
   "execution_count": 4,
   "id": "fa33f140",
   "metadata": {},
   "outputs": [],
   "source": [
    "emailTone = \"Professional\"\n",
    "emailLength = \"Short\"\n",
    "emailUserInput = \"I need to respond to Kevin about the presentation I'll be giving to The Home Depot developer community.\"\n",
    "emailSender = \"Jon Tupitza\""
   ]
  },
  {
   "attachments": {},
   "cell_type": "markdown",
   "id": "edd99fa0",
   "metadata": {},
   "source": [
    "### 4. Now Call the EmailSenderDemo Functions"
   ]
  },
  {
   "cell_type": "code",
   "execution_count": 5,
   "id": "6effe63b",
   "metadata": {},
   "outputs": [
    {
     "name": "stdout",
     "output_type": "stream",
     "text": [
      "Subject: Response to Presentation for The Home Depot Developer Community\n",
      "\n",
      "Dear Kevin,\n",
      "\n",
      "I hope this email finds you well. I am writing to respond to your inquiry about the presentation I will be giving to The Home Depot developer community.\n",
      "\n",
      "I am pleased to confirm that I will be presenting on the topic of \"Innovative Solutions for E-commerce Platforms\" on the scheduled date. I am excited to share my insights and expertise with the audience and look forward to a productive session.\n",
      "\n",
      "Please let me know if there are any specific requirements or expectations that I should keep in mind while preparing for the presentation. I am happy to accommodate any requests or suggestions that you may have.\n",
      "\n",
      "Thank you for your time and consideration. I look forward to working with you and The Home Depot team.\n",
      "\n",
      "Best regards,\n",
      "\n",
      "Jon Tupitza\n"
     ]
    }
   ],
   "source": [
    "context = kernel.create_new_context()\n",
    "\n",
    "context[\"tone\"] = emailTone\n",
    "context[\"length\"] = emailLength\n",
    "context[\"input\"] = emailUserInput\n",
    "context[\"sender\"] = emailSender\n",
    "\n",
    "asychronousCall = True\n",
    "\n",
    "if asychronousCall:\n",
    "    result = await emailFunction.invoke_async(context=context)\n",
    "else:\n",
    "    result = emailFunction(context=context)\n",
    "\n",
    "print(result)"
   ]
  },
  {
   "attachments": {
    "image.png": {
     "image/png": "[encoded data removed]"
    }
   },
   "cell_type": "markdown",
   "id": "4a8d616e",
   "metadata": {},
   "source": [
    "![image.png](attachment:image.png)"
   ]
  }
 ],
 "metadata": {
  "kernelspec": {
   "display_name": "Python 3 (ipykernel)",
   "language": "python",
   "name": "python3"
  },
  "language_info": {
   "codemirror_mode": {
    "name": "ipython",
    "version": 3
   },
   "file_extension": ".py",
   "mimetype": "text/x-python",
   "name": "python",
   "nbconvert_exporter": "python",
   "pygments_lexer": "ipython3",
   "version": "3.11.4"
  }
 },
 "nbformat": 4,
 "nbformat_minor": 5
}
